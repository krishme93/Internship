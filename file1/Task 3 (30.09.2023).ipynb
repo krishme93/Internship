{
 "cells": [
  {
   "cell_type": "code",
   "execution_count": 1,
   "id": "7f7f0363",
   "metadata": {},
   "outputs": [],
   "source": [
    "#Question 1- Write a Python program to replace all occurrences of a space, comma, or dot with a colon.\n",
    "##Sample Text- 'Python Exercises, PHP exercises.'\n",
    "##Expected Output: Python:Exercises::PHP:exercises:"
   ]
  },
  {
   "cell_type": "code",
   "execution_count": 2,
   "id": "cd1ba58f",
   "metadata": {},
   "outputs": [
    {
     "data": {
      "text/plain": [
       "'Python:Exercises::PHP:exercises:'"
      ]
     },
     "execution_count": 2,
     "metadata": {},
     "output_type": "execute_result"
    }
   ],
   "source": [
    "import re\n",
    "Sample_Text = 'Python Exercises, PHP exercises.'\n",
    "pattern = \"[,. ]\"\n",
    "result= re.sub(pattern,\":\",Sample_Text)\n",
    "result"
   ]
  },
  {
   "cell_type": "code",
   "execution_count": 3,
   "id": "3ccc3bb5",
   "metadata": {},
   "outputs": [],
   "source": [
    "#Question 2-  Write a Python program to find all words starting with 'a' or 'e' in a given string."
   ]
  },
  {
   "cell_type": "code",
   "execution_count": 4,
   "id": "46711694",
   "metadata": {},
   "outputs": [
    {
     "name": "stdout",
     "output_type": "stream",
     "text": [
      "['all', 'and', 'essence', 'a', 'allow', 'absorb', 'embrace', 'are', 'a', 'a', 'and', 'all', 'allows', 'and']\n"
     ]
    }
   ],
   "source": [
    "string='We all fear change and yet change is the very essence of life. How does a stream cross the mighty, desolate desert? Can it allow itself to change its very form to survive the journey? The Tale of the Sands helps the reader absorb the lesson that change can transform us, if only we have the courage to embrace it. The only characters in this book are a beautiful, flowing stream, a mighty, dry desert, the wind and the voice of faith that lives within us all. As the stream confronts its many fears of being subsumed by the wind, the voice reminds us that change allows us to grow, move and prosper.'\n",
    "\n",
    "result=re.findall(r'\\b[a|e]\\w*\\b', string)\n",
    "print(result)"
   ]
  },
  {
   "cell_type": "code",
   "execution_count": 5,
   "id": "9dcbe970",
   "metadata": {},
   "outputs": [],
   "source": [
    "#Question 3- Create a function in python to find all words that are at least 4 characters long in a string. \n",
    "#The use of the re.compile() method is mandatory."
   ]
  },
  {
   "cell_type": "code",
   "execution_count": 6,
   "id": "41f0330c",
   "metadata": {},
   "outputs": [
    {
     "name": "stdout",
     "output_type": "stream",
     "text": [
      "['fear', 'change', 'change', 'very', 'essence', 'life', 'does', 'stream', 'cross', 'mighty', 'desolate', 'desert', 'allow', 'itself', 'change', 'very', 'form', 'survive', 'journey', 'Tale', 'Sands', 'helps', 'reader', 'absorb', 'lesson', 'that', 'change', 'transform', 'only', 'have', 'courage', 'embrace', 'only', 'characters', 'this', 'book', 'beautiful', 'flowing', 'stream', 'mighty', 'desert', 'wind', 'voice', 'faith', 'that', 'lives', 'within', 'stream', 'confronts', 'many', 'fears', 'being', 'subsumed', 'wind', 'voice', 'reminds', 'that', 'change', 'allows', 'grow', 'move', 'prosper']\n"
     ]
    }
   ],
   "source": [
    "string='We all fear change and yet change is the very essence of life. How does a stream cross the mighty, desolate desert? Can it allow itself to change its very form to survive the journey? The Tale of the Sands helps the reader absorb the lesson that change can transform us, if only we have the courage to embrace it. The only characters in this book are a beautiful, flowing stream, a mighty, dry desert, the wind and the voice of faith that lives within us all. As the stream confronts its many fears of being subsumed by the wind, the voice reminds us that change allows us to grow, move and prosper.'\n",
    "compile=re.compile(r'\\b\\w{4,}\\b')\n",
    "result=compile.findall(string)\n",
    "print(result)"
   ]
  },
  {
   "cell_type": "code",
   "execution_count": 7,
   "id": "1983ce2e",
   "metadata": {},
   "outputs": [],
   "source": [
    "#Question 4- Create a function in python to find all three, four, and five character words in a string. \n",
    "#The use of the re.compile() method is mandatory."
   ]
  },
  {
   "cell_type": "code",
   "execution_count": 8,
   "id": "cfc919f5",
   "metadata": {},
   "outputs": [
    {
     "name": "stdout",
     "output_type": "stream",
     "text": [
      "['all', 'fear', 'and', 'yet', 'the', 'very', 'life', 'How', 'does', 'cross', 'the', 'Can', 'allow', 'its', 'very', 'form', 'the', 'The', 'Tale', 'the', 'Sands', 'helps', 'the', 'the', 'that', 'can', 'only', 'have', 'the', 'The', 'only', 'this', 'book', 'are', 'dry', 'the', 'wind', 'and', 'the', 'voice', 'faith', 'that', 'lives', 'all', 'the', 'its', 'many', 'fears', 'being', 'the', 'wind', 'the', 'voice', 'that', 'grow', 'move', 'and']\n"
     ]
    }
   ],
   "source": [
    "string='We all fear change and yet change is the very essence of life. How does a stream cross the mighty, desolate desert? Can it allow itself to change its very form to survive the journey? The Tale of the Sands helps the reader absorb the lesson that change can transform us, if only we have the courage to embrace it. The only characters in this book are a beautiful, flowing stream, a mighty, dry desert, the wind and the voice of faith that lives within us all. As the stream confronts its many fears of being subsumed by the wind, the voice reminds us that change allows us to grow, move and prosper.'\n",
    "compile=re.compile(r'\\b\\w{3,5}\\b')\n",
    "result=compile.findall(string)\n",
    "print(result)"
   ]
  },
  {
   "cell_type": "code",
   "execution_count": 9,
   "id": "cf8eb7d9",
   "metadata": {},
   "outputs": [],
   "source": [
    "#Question 5- Create a function in Python to remove the parenthesis in a list of strings. \n",
    "#The use of the re.compile() method is mandatory."
   ]
  },
  {
   "cell_type": "markdown",
   "id": "0e2db44e",
   "metadata": {},
   "source": [
    "Sample Text: [\"example (.com)\", \"hr@fliprobo (.com)\", \"github (.com)\", \"Hello (Data Science World)\", \"Data (Scientist)\"]\n",
    "\n",
    "Expected Output:\n",
    "\n",
    "example.com\n",
    "hr@fliprobo.com \n",
    "github.com \n",
    "Hello Data Science World \n",
    "Data Scientist"
   ]
  },
  {
   "cell_type": "code",
   "execution_count": 10,
   "id": "7c676aeb",
   "metadata": {},
   "outputs": [
    {
     "name": "stdout",
     "output_type": "stream",
     "text": [
      "['example.com', 'hr@fliprobo.com', 'github.com', 'Hello Data Science World', 'Data Scientist']\n"
     ]
    }
   ],
   "source": [
    "sample_text=[\"example (.com)\", \"hr@fliprobo (.com)\", \"github (.com)\", \"Hello (Data Science World)\", \"Data (Scientist)\"]\n",
    "target=[]\n",
    "\n",
    "for m in sample_text:\n",
    "    pattern=re.compile(r'\\(|\\)')\n",
    "    result=pattern.sub(\"\",m)\n",
    "    target.append(result)\n",
    "    \n",
    "results=[]\n",
    "\n",
    "for m in target:\n",
    "    pattern = re.compile(r'\\s+\\.')\n",
    "    result=pattern.sub('.',m)\n",
    "    results.append(result)\n",
    "    \n",
    "print(results)"
   ]
  },
  {
   "cell_type": "code",
   "execution_count": 11,
   "id": "d5235ceb",
   "metadata": {},
   "outputs": [],
   "source": [
    "#Question 6- Write a python program to remove the parenthesis area\n",
    "#from the text stored in the text file using Regular Expression."
   ]
  },
  {
   "cell_type": "markdown",
   "id": "07eb9e61",
   "metadata": {},
   "source": [
    "Sample Text: [\"example (.com)\", \"hr@fliprobo (.com)\", \"github (.com)\", \"Hello (Data Science World)\", \"Data (Scientist)\"]\n",
    "\n",
    "Expected Output: [\"example\", \"hr@fliprobo\", \"github\", \"Hello\", \"Data\"]"
   ]
  },
  {
   "cell_type": "code",
   "execution_count": 12,
   "id": "8492ce11",
   "metadata": {},
   "outputs": [
    {
     "name": "stdout",
     "output_type": "stream",
     "text": [
      "['example', 'hr@fliprobo', 'github', 'Hello', 'Data']\n"
     ]
    }
   ],
   "source": [
    "sample_text: [\"example (.com)\", \"hr@fliprobo (.com)\", \"github (.com)\", \"Hello (Data Science World)\", \"Data (Scientist)\"]\n",
    "results=[]\n",
    "\n",
    "for m in sample_text:\n",
    "    pattern = re.compile(r'\\s*\\([^)]*\\)')\n",
    "    result=pattern.sub('',m)\n",
    "    results.append(result)\n",
    "    \n",
    "print(results)"
   ]
  },
  {
   "cell_type": "code",
   "execution_count": 13,
   "id": "da461972",
   "metadata": {},
   "outputs": [],
   "source": [
    "#Question 7- Write a regular expression in Python to split a string into uppercase letters."
   ]
  },
  {
   "cell_type": "markdown",
   "id": "997b919c",
   "metadata": {},
   "source": [
    "Sample text: “ImportanceOfRegularExpressionsInPython”\n",
    "\n",
    "Expected Output: [‘Importance’, ‘Of’, ‘Regular’, ‘Expression’, ‘In’, ‘Python’]"
   ]
  },
  {
   "cell_type": "code",
   "execution_count": 14,
   "id": "aa44c35f",
   "metadata": {},
   "outputs": [
    {
     "data": {
      "text/plain": [
       "['Importance', 'Of', 'Regular', 'Expressions', 'In', 'Python']"
      ]
     },
     "execution_count": 14,
     "metadata": {},
     "output_type": "execute_result"
    }
   ],
   "source": [
    "sample_text=\"ImportanceOfRegularExpressionsInPython\"\n",
    "\n",
    "output = re.split(r'(?<=[a-z])(?=[A-Z])',sample_text)\n",
    "\n",
    "output\n"
   ]
  },
  {
   "cell_type": "code",
   "execution_count": 15,
   "id": "558e7ef1",
   "metadata": {},
   "outputs": [],
   "source": [
    "#Question 8- Create a function in python to insert spaces between words starting with numbers."
   ]
  },
  {
   "cell_type": "markdown",
   "id": "401435e7",
   "metadata": {},
   "source": [
    "Sample Text: “RegularExpression1IsAn2ImportantTopic3InPython\"\n",
    "\n",
    "Expected Output: RegularExpression 1IsAn 2ImportantTopic 3InPython"
   ]
  },
  {
   "cell_type": "code",
   "execution_count": 16,
   "id": "3f1362be",
   "metadata": {},
   "outputs": [
    {
     "data": {
      "text/plain": [
       "'RegularExpression 1IsAn 2ImportantTopic 3InPython'"
      ]
     },
     "execution_count": 16,
     "metadata": {},
     "output_type": "execute_result"
    }
   ],
   "source": [
    "sample_text=\"RegularExpression1IsAn2ImportantTopic3InPython\"\n",
    "\n",
    "output = re.sub(r'(?<=[a-z])(?=[0-9])',\" \",sample_text)\n",
    "\n",
    "output"
   ]
  },
  {
   "cell_type": "code",
   "execution_count": 17,
   "id": "59223e95",
   "metadata": {},
   "outputs": [],
   "source": [
    "#Question 9- Create a function in python to insert spaces between words starting with capital letters or with numbers."
   ]
  },
  {
   "cell_type": "markdown",
   "id": "2dadbd3b",
   "metadata": {},
   "source": [
    "Sample Text: “RegularExpression1IsAn2ImportantTopic3InPython\"\n",
    "    \n",
    "Expected Output:  RegularExpression 1 IsAn 2 ImportantTopic 3 InPython"
   ]
  },
  {
   "cell_type": "code",
   "execution_count": 18,
   "id": "2155a021",
   "metadata": {},
   "outputs": [
    {
     "data": {
      "text/plain": [
       "'RegularExpression 1 IsAn 2 ImportantTopic 3 InPython'"
      ]
     },
     "execution_count": 18,
     "metadata": {},
     "output_type": "execute_result"
    }
   ],
   "source": [
    "sample_text=\"RegularExpression1IsAn2ImportantTopic3InPython\"\n",
    "\n",
    "output = re.sub(r'(?<=\\D)(?=\\d)|(?<=\\d)(?=\\D)',\" \",sample_text)\n",
    "\n",
    "output"
   ]
  },
  {
   "cell_type": "code",
   "execution_count": 19,
   "id": "ba669e97",
   "metadata": {},
   "outputs": [],
   "source": [
    "#Question 10- Write a python program to extract email address from the text stored in the text file using Regular Expression."
   ]
  },
  {
   "cell_type": "markdown",
   "id": "20df4c26",
   "metadata": {},
   "source": [
    "Sample Text- Hello my name is Data Science and my email address is xyz@domain.com and alternate email address is xyz.abc@sdomain.domain.com. \n",
    "Please contact us at hr@fliprobo.com for further information. \n",
    "\n",
    "Expected Output: \n",
    "['xyz@domain.com', 'xyz.abc@sdomain.domain.com']\n",
    "['hr@fliprobo.com']"
   ]
  },
  {
   "cell_type": "code",
   "execution_count": 20,
   "id": "0727f510",
   "metadata": {},
   "outputs": [],
   "source": [
    "#Note- Store given sample text in the text file and then extract email addresses."
   ]
  },
  {
   "cell_type": "code",
   "execution_count": 21,
   "id": "19806335",
   "metadata": {},
   "outputs": [
    {
     "name": "stdout",
     "output_type": "stream",
     "text": [
      "[['xyz@domain.com', 'xyz.abc@sdomain.domain.com'], ['hr@fliprobo.com']]\n"
     ]
    }
   ],
   "source": [
    "file=open(\"Question10.txt\",\"r\")\n",
    "results=[]\n",
    "\n",
    "for i in file:\n",
    "    \n",
    "    pattern = re.compile(r'\\b[A-Za-z0-9\\.\\_\\%\\+\\-]+[@][a-z.]+\\.[A-Z|a-z]{2,}\\b')\n",
    "    matches = re.findall(pattern,i)\n",
    "    results.append(matches)\n",
    "\n",
    "print(results)"
   ]
  },
  {
   "cell_type": "code",
   "execution_count": 22,
   "id": "3e175d0e",
   "metadata": {},
   "outputs": [],
   "source": [
    "#Question 11- Write a Python program to match a string that contains only upper and lowercase letters, numbers, and underscores"
   ]
  },
  {
   "cell_type": "code",
   "execution_count": 23,
   "id": "5763d9c3",
   "metadata": {},
   "outputs": [
    {
     "data": {
      "text/plain": [
       "[None,\n",
       " None,\n",
       " <re.Match object; span=(0, 10), match='Abigail44_'>,\n",
       " None,\n",
       " None,\n",
       " <re.Match object; span=(0, 6), match='S_am5_'>]"
      ]
     },
     "execution_count": 23,
     "metadata": {},
     "output_type": "execute_result"
    }
   ],
   "source": [
    "string = ['Abava556/-', 'Amelia62*%#', 'Abigail44_', 'Raj$#%^', 'Dd*&46_', 'S_am5_']\n",
    "\n",
    "results=[]\n",
    "\n",
    "for i in string:    \n",
    "    pattern = r'^[a-zA-Z0-9_]*$'\n",
    "    result = re.search(pattern,i)\n",
    "    results.append(result)\n",
    "             \n",
    "results"
   ]
  },
  {
   "cell_type": "code",
   "execution_count": 24,
   "id": "5cd23a7f",
   "metadata": {},
   "outputs": [],
   "source": [
    "#Question 12- Write a Python program where a string will start with a specific number"
   ]
  },
  {
   "cell_type": "code",
   "execution_count": 25,
   "id": "06549c1b",
   "metadata": {},
   "outputs": [
    {
     "name": "stdout",
     "output_type": "stream",
     "text": [
      "['9EmilyDavis', '92MadelineWalker']\n"
     ]
    }
   ],
   "source": [
    "strings = ['9EmilyDavis', '17TheodoreDinh', '21LunaSanders', '34PenelopeJordan', '46AustinVo', '59JoshuaGupta', '65RubyBarnes', '79LukeMartin', '80EastonBailey', '92MadelineWalker', '102SavannahAli']\n",
    "\n",
    "def match(string):\n",
    "    pattern = r\"^9\"    # Replace 9 with the desired number\n",
    "    return (re.match(pattern, string))\n",
    "\n",
    "output = [string for string in strings if match(string)]\n",
    "print(output)"
   ]
  },
  {
   "cell_type": "code",
   "execution_count": 26,
   "id": "de1c2eae",
   "metadata": {},
   "outputs": [
    {
     "data": {
      "text/plain": [
       "[<re.Match object; span=(0, 11), match='9EmilyDavis'>,\n",
       " None,\n",
       " None,\n",
       " None,\n",
       " None,\n",
       " None,\n",
       " None,\n",
       " None,\n",
       " None,\n",
       " <re.Match object; span=(0, 16), match='92MadelineWalker'>,\n",
       " None]"
      ]
     },
     "execution_count": 26,
     "metadata": {},
     "output_type": "execute_result"
    }
   ],
   "source": [
    "strings = ['9EmilyDavis', '17TheodoreDinh', '21LunaSanders', '34PenelopeJordan', '46AustinVo', '59JoshuaGupta', '65RubyBarnes', '79LukeMartin', '80EastonBailey', '92MadelineWalker', '102SavannahAli']\n",
    "\n",
    "results=[]\n",
    "\n",
    "for p in strings:\n",
    "    pattern = r'^9[\\w]+'  # Replace 9 with the desired number\n",
    "    result  = re.match(pattern,p)\n",
    "    results.append(result)\n",
    "\n",
    "results"
   ]
  },
  {
   "cell_type": "code",
   "execution_count": 27,
   "id": "9a0813be",
   "metadata": {},
   "outputs": [],
   "source": [
    "#Question 13- Write a Python program to remove leading zeros from an IP address"
   ]
  },
  {
   "cell_type": "code",
   "execution_count": 28,
   "id": "4e2bca71",
   "metadata": {},
   "outputs": [
    {
     "name": "stdout",
     "output_type": "stream",
     "text": [
      "remove all zeros: 198.2.1.21\n",
      "remove leading zeros: 198.20.10.210\n"
     ]
    }
   ],
   "source": [
    "ip_address = '198.0020.010.0210'\n",
    "\n",
    "def remove_all_zeros(ip_address):\n",
    "    pattern = r'[0]*'\n",
    "    return re.sub(pattern,\"\", ip_address)\n",
    "print(\"remove all zeros:\", remove_all_zeros(ip_address))\n",
    "\n",
    "#remove leading zeros\n",
    "\n",
    "result = re.sub(r'\\.[0]*', '.', ip_address)\n",
    "print(\"remove leading zeros:\",result)"
   ]
  },
  {
   "cell_type": "code",
   "execution_count": 29,
   "id": "f0e327f0",
   "metadata": {},
   "outputs": [],
   "source": [
    "#Question 14- Write a regular expression in python to match a date string in the form of Month name \n",
    "#followed by day number and year stored in a text file."
   ]
  },
  {
   "cell_type": "markdown",
   "id": "ad61d49c",
   "metadata": {},
   "source": [
    "Sample text : ' On August 15th 1947 that India was declared independent from British colonialism, and the reins of control were handed over to the leaders of the Country’.\n",
    "\n",
    "Expected Output- August 15th 1947"
   ]
  },
  {
   "cell_type": "code",
   "execution_count": 30,
   "id": "50c3c1cd",
   "metadata": {},
   "outputs": [
    {
     "name": "stdout",
     "output_type": "stream",
     "text": [
      "August 15th 1947\n"
     ]
    }
   ],
   "source": [
    "text = open(\"Question-14.txt\",\"r\")\n",
    "results=[]\n",
    "\n",
    "for i in text:\n",
    "    pattern = r\"\\b\\w+\\s\\d{1,2}\\w{0,}\\s\\d{4}\\b\"\n",
    "    match   = re.search(pattern,i)\n",
    "    results.append(match)\n",
    "    \n",
    "if match:\n",
    "    print(match.group())"
   ]
  },
  {
   "cell_type": "code",
   "execution_count": 31,
   "id": "1dbe2f40",
   "metadata": {},
   "outputs": [],
   "source": [
    "#Question 15- Write a Python program to search some literals strings in a string. "
   ]
  },
  {
   "cell_type": "markdown",
   "id": "60a1c549",
   "metadata": {},
   "source": [
    "Sample text : 'The quick brown fox jumps over the lazy dog.'\n",
    "\n",
    "Searched words : 'fox', 'dog', 'horse'"
   ]
  },
  {
   "cell_type": "code",
   "execution_count": 32,
   "id": "3dd3a454",
   "metadata": {},
   "outputs": [
    {
     "name": "stdout",
     "output_type": "stream",
     "text": [
      "\"fox\" in \"The quick brown fox jumps over the lazy dog\" = found\n",
      "\"dog\" in \"The quick brown fox jumps over the lazy dog\" = found\n",
      "\"horse\" in \"The quick brown fox jumps over the lazy dog\" = Not found\n"
     ]
    }
   ],
   "source": [
    "sample_text = 'The quick brown fox jumps over the lazy dog'\n",
    "\n",
    "patterns = ['fox', 'dog', 'horse']\n",
    "\n",
    "for i in patterns:\n",
    "   \n",
    "    if re.search(i,sample_text):\n",
    "        print('\"%s\" in \"%s\" =' % (i, sample_text),\"found\")\n",
    "    else:\n",
    "        print('\"%s\" in \"%s\" =' % (i, sample_text),\"Not found\")"
   ]
  },
  {
   "cell_type": "code",
   "execution_count": 33,
   "id": "9ae16576",
   "metadata": {},
   "outputs": [],
   "source": [
    "#Question 16- Write a Python program to search a literals string in a string and \n",
    "#also find the location within the original string where the pattern occurs"
   ]
  },
  {
   "cell_type": "markdown",
   "id": "9b364d9c",
   "metadata": {},
   "source": [
    "Sample text : 'The quick brown fox jumps over the lazy dog.'\n",
    "\n",
    "Searched words : 'fox'"
   ]
  },
  {
   "cell_type": "code",
   "execution_count": 34,
   "id": "6c7c4505",
   "metadata": {},
   "outputs": [
    {
     "name": "stdout",
     "output_type": "stream",
     "text": [
      "Found \"fox\" in \"The quick brown fox jumps over the lazy dog.\" from 16 to 19 \n"
     ]
    }
   ],
   "source": [
    "sample_text = 'The quick brown fox jumps over the lazy dog.'\n",
    "pattern = 'fox'\n",
    "\n",
    "match = re.search(pattern,sample_text)\n",
    "\n",
    "s = match.start()\n",
    "e = match.end()\n",
    "\n",
    "print('Found \"%s\" in \"%s\" from %d to %d ' % (match.re.pattern, match.string, s, e))"
   ]
  },
  {
   "cell_type": "code",
   "execution_count": 35,
   "id": "b8916bbc",
   "metadata": {},
   "outputs": [],
   "source": [
    "#Question 17- Write a Python program to find the substrings within a string."
   ]
  },
  {
   "cell_type": "markdown",
   "id": "7e0bc51e",
   "metadata": {},
   "source": [
    "Sample text : 'Python exercises, PHP exercises, C# exercises'\n",
    "\n",
    "Pattern : 'exercises'."
   ]
  },
  {
   "cell_type": "code",
   "execution_count": 36,
   "id": "131ca245",
   "metadata": {},
   "outputs": [
    {
     "data": {
      "text/plain": [
       "['exercises', 'exercises', 'exercises']"
      ]
     },
     "execution_count": 36,
     "metadata": {},
     "output_type": "execute_result"
    }
   ],
   "source": [
    "sample_text = 'Python exercises, PHP exercises, C# exercises'\n",
    "pattern = 'exercises'\n",
    "result =re.findall(pattern,sample_text)\n",
    "\n",
    "result"
   ]
  },
  {
   "cell_type": "code",
   "execution_count": 37,
   "id": "666a5f34",
   "metadata": {},
   "outputs": [],
   "source": [
    "#Question 18- Write a Python program to find the occurrence and position of the substrings within a string."
   ]
  },
  {
   "cell_type": "code",
   "execution_count": 38,
   "id": "5de87bd1",
   "metadata": {},
   "outputs": [
    {
     "name": "stdout",
     "output_type": "stream",
     "text": [
      "Found \"exercises\" at 7:16\n",
      "Found \"exercises\" at 22:31\n",
      "Found \"exercises\" at 36:45\n"
     ]
    }
   ],
   "source": [
    "text = 'Python exercises, PHP exercises, C# exercises'\n",
    "pattern = 'exercises'\n",
    "\n",
    "for match in re.finditer(pattern, text):\n",
    "    s = match.start()\n",
    "    e = match.end()\n",
    "    \n",
    "    print('Found \"%s\" at %d:%d' % (text[s:e], s, e))"
   ]
  },
  {
   "cell_type": "code",
   "execution_count": 39,
   "id": "b286b661",
   "metadata": {},
   "outputs": [],
   "source": [
    "#Question 19- Write a Python program to convert a date of yyyy-mm-dd format to dd-mm-yyyy format."
   ]
  },
  {
   "cell_type": "code",
   "execution_count": 40,
   "id": "3059c564",
   "metadata": {},
   "outputs": [
    {
     "name": "stdout",
     "output_type": "stream",
     "text": [
      "original format(yyyy-mm-dd): 2024-10-05\n",
      "new format(dd-mm-yyyy): 05-10-2024\n"
     ]
    }
   ],
   "source": [
    "date= \"2024-10-05\"\n",
    "\n",
    "def new_formate(date):\n",
    "    return re.sub(r'(\\d{4})-(\\d{1,2})-(\\d{1,2})',r'\\3-\\2-\\1', date)\n",
    "\n",
    "new_date = new_formate(date)\n",
    "\n",
    "print(\"original format(yyyy-mm-dd):\",date)\n",
    "print(\"new format(dd-mm-yyyy):\",new_date)"
   ]
  },
  {
   "cell_type": "code",
   "execution_count": 41,
   "id": "1c30936c",
   "metadata": {},
   "outputs": [],
   "source": [
    "#Question 20- Create a function in python to find all decimal numbers with a precision of 1 or 2 in a string.\n",
    "#The use of the re.compile() method is mandatory."
   ]
  },
  {
   "cell_type": "markdown",
   "id": "c8d02e25",
   "metadata": {},
   "source": [
    "Sample Text: \"01.12 0132.123 2.31875 145.8 3.01 27.25 0.25\"\n",
    "\n",
    "Expected Output: ['01.12', '145.8', '3.01', '27.25', '0.25']"
   ]
  },
  {
   "cell_type": "code",
   "execution_count": 42,
   "id": "e1018c95",
   "metadata": {},
   "outputs": [
    {
     "name": "stdout",
     "output_type": "stream",
     "text": [
      "['01.12', '145.8', '3.01', '27.25', '0.25']\n"
     ]
    }
   ],
   "source": [
    "string= '01.12 0132.123 2.31875 145.8 3.01 27.25 0.25'\n",
    "\n",
    "def find_all_decimal_numbers(string):\n",
    "    pattern=re.compile(r'\\b\\d+\\.\\d{1,2}\\b')\n",
    "    match=re.findall(pattern,string)\n",
    "    return match\n",
    "    \n",
    "result= find_all_decimal_numbers(string)\n",
    "\n",
    "print(result)"
   ]
  },
  {
   "cell_type": "code",
   "execution_count": 43,
   "id": "4ebb7fd0",
   "metadata": {},
   "outputs": [],
   "source": [
    "#Question 21- Write a Python program to separate and print the numbers and their position of a given string."
   ]
  },
  {
   "cell_type": "code",
   "execution_count": 44,
   "id": "e28de250",
   "metadata": {},
   "outputs": [
    {
     "name": "stdout",
     "output_type": "stream",
     "text": [
      "Number 15 found at position (10, 12)\n",
      "Number 1947 found at position (15, 19)\n"
     ]
    }
   ],
   "source": [
    "sample_text = 'On August 15th 1947 that India was declared independent from British colonialism'\n",
    "pattern = r'\\d+'\n",
    "\n",
    "matches = re.finditer(pattern,sample_text)\n",
    "\n",
    "for m in matches:\n",
    "    print('Number {} found at position {}'.format(m.group(), m.span()))"
   ]
  },
  {
   "cell_type": "code",
   "execution_count": 45,
   "id": "2ed6e256",
   "metadata": {},
   "outputs": [],
   "source": [
    "#Question 22- Write a regular expression in python program to extract maximum/largest numeric value from a string."
   ]
  },
  {
   "cell_type": "markdown",
   "id": "f8269f88",
   "metadata": {},
   "source": [
    "Sample Text:  'My marks in each semester are: 947, 896, 926, 524, 734, 950, 642'\n",
    "\n",
    "Expected Output: 950"
   ]
  },
  {
   "cell_type": "code",
   "execution_count": 46,
   "id": "13847d5b",
   "metadata": {},
   "outputs": [
    {
     "name": "stdout",
     "output_type": "stream",
     "text": [
      "Maximum value: 950\n"
     ]
    }
   ],
   "source": [
    "Sample_text='My marks in each semester are: 947, 896, 926, 524, 734, 950, 642'\n",
    "\n",
    "pattern = re.findall(r'\\d+',Sample_text)\n",
    "\n",
    "number = map(int, pattern)\n",
    "\n",
    "print(\"Maximum value:\",max(number))"
   ]
  },
  {
   "cell_type": "code",
   "execution_count": 47,
   "id": "5a7f5200",
   "metadata": {},
   "outputs": [],
   "source": [
    "#Question 23- Create a function in python to insert spaces between words starting with capital letters."
   ]
  },
  {
   "cell_type": "markdown",
   "id": "117ecce4",
   "metadata": {},
   "source": [
    "Sample Text: “RegularExpressionIsAnImportantTopicInPython\"\n",
    "\n",
    "Expected Output: Regular Expression Is An Important Topic In Python\n"
   ]
  },
  {
   "cell_type": "code",
   "execution_count": 48,
   "id": "888299f7",
   "metadata": {},
   "outputs": [
    {
     "data": {
      "text/plain": [
       "'Regular Expression Is An Important Topic In Python'"
      ]
     },
     "execution_count": 48,
     "metadata": {},
     "output_type": "execute_result"
    }
   ],
   "source": [
    "sample_text=\"RegularExpressionIsAnImportantTopicInPython\"\n",
    "\n",
    "output = re.sub(r'(?<=[a-z])(?=[A-Z])',\" \",sample_text)\n",
    "\n",
    "output"
   ]
  },
  {
   "cell_type": "code",
   "execution_count": 49,
   "id": "cc9e0f27",
   "metadata": {},
   "outputs": [
    {
     "name": "stdout",
     "output_type": "stream",
     "text": [
      " Regular Expression Is An Important Topic In Python\n"
     ]
    }
   ],
   "source": [
    "string = 'RegularExpressionIsAnImportantTopicInPython'\n",
    "\n",
    "def insert_spaces(string):\n",
    "    words = re.split(r'(?=[A-Z])', string)\n",
    "    return ' '.join(words)\n",
    "\n",
    "result = insert_spaces(string)\n",
    "\n",
    "print(result)"
   ]
  },
  {
   "cell_type": "code",
   "execution_count": 50,
   "id": "91747760",
   "metadata": {},
   "outputs": [],
   "source": [
    "#Question 24- Python regex to find sequences of one upper case letter followed by lower case letters"
   ]
  },
  {
   "cell_type": "code",
   "execution_count": 51,
   "id": "e22c75ca",
   "metadata": {},
   "outputs": [
    {
     "data": {
      "text/plain": [
       "['Regular', 'Expression', 'Is', 'An', 'Important', 'Topic', 'In', 'Python']"
      ]
     },
     "execution_count": 51,
     "metadata": {},
     "output_type": "execute_result"
    }
   ],
   "source": [
    "sample_text=\"RegularExpressionIsAnImportantTopicInPython\"\n",
    "\n",
    "output = re.findall(r'[A-Z][a-z]+',sample_text)\n",
    "\n",
    "output"
   ]
  },
  {
   "cell_type": "code",
   "execution_count": 52,
   "id": "cc812eb1",
   "metadata": {},
   "outputs": [],
   "source": [
    "#Question 25- Write a Python program to remove continuous duplicate words from Sentence using Regular Expression."
   ]
  },
  {
   "cell_type": "markdown",
   "id": "e10f6b79",
   "metadata": {},
   "source": [
    "Sample Text: \"Hello hello world world\"\n",
    "\n",
    "Expected Output: Hello hello world"
   ]
  },
  {
   "cell_type": "code",
   "execution_count": 53,
   "id": "330e7070",
   "metadata": {},
   "outputs": [
    {
     "name": "stdout",
     "output_type": "stream",
     "text": [
      "Hello hello world\n"
     ]
    }
   ],
   "source": [
    "sentence = \"Hello hello world world\"\n",
    "\n",
    "def remove_duplicates(sentence):\n",
    "    pattern = r'\\b(\\w+)(\\s+\\1\\b)+'\n",
    "    result  = re.sub(pattern, r'\\1',sentence)\n",
    "    return result\n",
    "\n",
    "output = remove_duplicates(sentence)\n",
    "print(output)"
   ]
  },
  {
   "cell_type": "code",
   "execution_count": 54,
   "id": "59e81566",
   "metadata": {},
   "outputs": [],
   "source": [
    "#Question 26-  Write a python program using RegEx to accept string ending with alphanumeric character."
   ]
  },
  {
   "cell_type": "code",
   "execution_count": 55,
   "id": "f7f09874",
   "metadata": {},
   "outputs": [
    {
     "name": "stdout",
     "output_type": "stream",
     "text": [
      "Enter An Alphanumeric String:HELLO123\n",
      "String ends with an alphanumeric character:TRUE\n"
     ]
    }
   ],
   "source": [
    "string =input(\"Enter An Alphanumeric String:\")\n",
    "\n",
    "def check_string(string):\n",
    "    match = re.search(r'\\w$', string)\n",
    "    return match\n",
    "\n",
    "if check_string(string):\n",
    "  print(\"String ends with an alphanumeric character:TRUE\")\n",
    "else:\n",
    "  print(\"String does not end with an alphanumeric character:FALSE\")"
   ]
  },
  {
   "cell_type": "code",
   "execution_count": 56,
   "id": "1fd6dbe1",
   "metadata": {},
   "outputs": [],
   "source": [
    "#Question 27-Write a python program using RegEx to extract the hashtags."
   ]
  },
  {
   "cell_type": "markdown",
   "id": "f2ca9229",
   "metadata": {},
   "source": [
    "Sample Text:  \"\"\"RT @kapil_kausik: #Doltiwal I mean #xyzabc is \"hurt\" by #Demonetization as the same has rendered USELESS <ed><U+00A0><U+00BD><ed><U+00B1><U+0089> \"acquired funds\" No wo\"\"\"\n",
    "\n",
    "Expected Output: ['#Doltiwal', '#xyzabc', '#Demonetization']"
   ]
  },
  {
   "cell_type": "code",
   "execution_count": 57,
   "id": "820f9307",
   "metadata": {},
   "outputs": [
    {
     "data": {
      "text/plain": [
       "['#Doltiwal', '#xyzabc', '#Demonetization']"
      ]
     },
     "execution_count": 57,
     "metadata": {},
     "output_type": "execute_result"
    }
   ],
   "source": [
    "sample_text=\"\"\"RT @kapil_kausik: #Doltiwal I mean #xyzabc is \"hurt\" by #Demonetization as the same has rendered USELESS <ed><U+00A0><U+00BD><ed><U+00B1><U+0089> \"acquired funds\" No wo\"\"\"\n",
    "    \n",
    "\n",
    "def extract_hashtags(sample_text):\n",
    "    \n",
    "    result = re.findall(r'#\\w+',sample_text)\n",
    "    return result\n",
    "\n",
    "results=extract_hashtags(sample_text)\n",
    "\n",
    "results"
   ]
  },
  {
   "cell_type": "code",
   "execution_count": 58,
   "id": "d47f7579",
   "metadata": {},
   "outputs": [],
   "source": [
    "#Question 28- Write a python program using RegEx to remove <U+..> like symbols\n",
    "#Check the below sample text, there are strange symbols something of the sort <U+..> all over the place. \n",
    "#You need to come up with a general Regex expression that will cover all such symbols."
   ]
  },
  {
   "cell_type": "markdown",
   "id": "dcd7903f",
   "metadata": {},
   "source": [
    "Sample Text: \"@Jags123456 Bharat band on 28??<ed><U+00A0><U+00BD><ed><U+00B8><U+0082>Those who  are protesting #demonetization  are all different party leaders\"\n",
    "\n",
    "Expected Output: @Jags123456 Bharat band on 28??<ed><ed>Those who  are protesting #demonetization  are all different party leaders"
   ]
  },
  {
   "cell_type": "code",
   "execution_count": 59,
   "id": "ab81ca2b",
   "metadata": {},
   "outputs": [
    {
     "data": {
      "text/plain": [
       "'@Jags123456 Bharat band on 28??<ed><ed>Those who  are protesting #demonetization  are all different party leaders'"
      ]
     },
     "execution_count": 59,
     "metadata": {},
     "output_type": "execute_result"
    }
   ],
   "source": [
    "sample_text=\"@Jags123456 Bharat band on 28??<ed><U+00A0><U+00BD><ed><U+00B8><U+0082>Those who  are protesting #demonetization  are all different party leaders\"\n",
    "    \n",
    "def extract_strange_symbol(sample_text):\n",
    "    \n",
    "    result = re.sub(r'<U\\+\\w+>',\"\",sample_text)\n",
    "    return result\n",
    "\n",
    "results=extract_strange_symbol(sample_text)\n",
    "\n",
    "results"
   ]
  },
  {
   "cell_type": "code",
   "execution_count": 60,
   "id": "e00440d2",
   "metadata": {},
   "outputs": [],
   "source": [
    "#Question 29- Write a python program to extract dates from the text stored in the text file."
   ]
  },
  {
   "cell_type": "markdown",
   "id": "084374ea",
   "metadata": {},
   "source": [
    "Sample Text: Ron was born on 12-09-1992 and he was admitted to school 15-12-1999.\n",
    "\n",
    "Note- Store this sample text in the file and then extract dates."
   ]
  },
  {
   "cell_type": "code",
   "execution_count": 61,
   "id": "a914c3ff",
   "metadata": {},
   "outputs": [
    {
     "data": {
      "text/plain": [
       "[['12-09-1992', '15-12-1999']]"
      ]
     },
     "execution_count": 61,
     "metadata": {},
     "output_type": "execute_result"
    }
   ],
   "source": [
    "text_file=open(\"Question-29.txt\",\"r\")\n",
    "\n",
    "results=[]\n",
    "\n",
    "for i in text_file:\n",
    "    pattern = r\"\\b\\d+\\-\\d+\\-\\d+\\b\"\n",
    "    match   = re.findall(pattern,i)\n",
    "    results.append(match)\n",
    "    \n",
    "results"
   ]
  },
  {
   "cell_type": "code",
   "execution_count": 62,
   "id": "c338bf58",
   "metadata": {},
   "outputs": [],
   "source": [
    "#Question 30- Create a function in python to remove all words from a string of length between 2 and 4."
   ]
  },
  {
   "cell_type": "markdown",
   "id": "05010029",
   "metadata": {},
   "source": [
    "The use of the re.compile() method is mandatory.\n",
    "\n",
    "Sample Text: \"The following example creates an ArrayList with a capacity of 50 elements. 4 elements are then added to the ArrayList and the ArrayList is trimmed accordingly.\"\n",
    "\n",
    "Expected Output:  following example creates ArrayList a capacity elements. 4 elements added ArrayList ArrayList trimmed accordingly."
   ]
  },
  {
   "cell_type": "code",
   "execution_count": 63,
   "id": "64ec0669",
   "metadata": {},
   "outputs": [
    {
     "name": "stdout",
     "output_type": "stream",
     "text": [
      " following example creates ArrayList a capacity elements. 4 elements added ArrayList ArrayList trimmed accordingly.\n"
     ]
    }
   ],
   "source": [
    "sample_text=\"The following example creates an ArrayList with a capacity of 50 elements. 4 elements are then added to the ArrayList and the ArrayList is trimmed accordingly.\"\n",
    "\n",
    "def remove_to_string(sample_text):\n",
    "    pattern=re.compile(r'\\b\\w{2,4}\\b')\n",
    "    match=re.sub(pattern,\"\",sample_text)\n",
    "    return match\n",
    "    \n",
    "result= remove_to_string(sample_text)\n",
    "\n",
    "print (re.sub((r'\\s{2,}'),\" \",result))"
   ]
  },
  {
   "cell_type": "code",
   "execution_count": null,
   "id": "20c358c3",
   "metadata": {},
   "outputs": [],
   "source": []
  }
 ],
 "metadata": {
  "kernelspec": {
   "display_name": "Python 3 (ipykernel)",
   "language": "python",
   "name": "python3"
  },
  "language_info": {
   "codemirror_mode": {
    "name": "ipython",
    "version": 3
   },
   "file_extension": ".py",
   "mimetype": "text/x-python",
   "name": "python",
   "nbconvert_exporter": "python",
   "pygments_lexer": "ipython3",
   "version": "3.9.13"
  }
 },
 "nbformat": 4,
 "nbformat_minor": 5
}
